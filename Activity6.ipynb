{
 "cells": [
  {
   "cell_type": "code",
   "execution_count": 3,
   "metadata": {},
   "outputs": [
    {
     "name": "stdout",
     "output_type": "stream",
     "text": [
      "How Many Students you Want To Input?4\n",
      "Enter Roll No:11\n",
      "Enter Name:ada\n",
      "Enter Physics Marks:22\n",
      "Enter Chemistry Marks:33\n",
      "Enter Maths Marks:44\n",
      "Enter Roll No:21\n",
      "Enter Name:mayank\n",
      "Enter Physics Marks:99\n",
      "Enter Chemistry Marks:99\n",
      "Enter Maths Marks:99\n",
      "Enter Roll No:33\n",
      "Enter Name:gulshan\n",
      "Enter Physics Marks:55\n",
      "Enter Chemistry Marks:66\n",
      "Enter Maths Marks:77\n",
      "Enter Roll No:44\n",
      "Enter Name:fef\n",
      "Enter Physics Marks:44\n",
      "Enter Chemistry Marks:55\n",
      "Enter Maths Marks:33\n",
      "Enter Roll Number you Want Search?21\n",
      "21 mayank 99.0\n",
      "All students who scored more that 60 percentage are : \n",
      "21 mayank 99.0\n",
      "33 gulshan 66.0\n"
     ]
    }
   ],
   "source": [
    "class Student:\n",
    "    def GetStudent(self):\n",
    "        self.__rollno = input(\"Enter Roll No:\")\n",
    "        self.__name = input(\"Enter Name:\")\n",
    "        self.__physicsMarks = int(input(\"Enter Physics Marks:\"))\n",
    "        self.__chemistyMarks = int(input(\"Enter Chemistry Marks:\"))\n",
    "        self.__mathMarks = int(input(\"Enter Maths Marks:\"))\n",
    "        return(self.__rollno)\n",
    "\n",
    "    def PutStudent(self):\n",
    "        print(self.__rollno,self.__name,((self.__physicsMarks+self.__chemistyMarks+self.__mathMarks)/3))\n",
    "\n",
    "    def Search(self,min,max):\n",
    "        per = (self.__physicsMarks+self.__mathMarks+self.__chemistyMarks)/3\n",
    "        if(per>=min and per<=max):\n",
    "            return True\n",
    "        else:\n",
    "            return False\n",
    "\n",
    "studentDict = dict()\n",
    "n = int(input(\"How Many Students you Want To Input?\"))\n",
    "for i in range(n):\n",
    "    S = Student()\n",
    "    rollno = S.GetStudent()\n",
    "    studentDict.setdefault(rollno,S)\n",
    "\n",
    "rollno = input(\"Enter Roll Number you Want Search?\")\n",
    "S = studentDict.get(rollno,\"Not Found!\")\n",
    "if(isinstance(S,Student)):\n",
    "    S.PutStudent()\n",
    "else:\n",
    "    print(S)\n",
    "\n",
    "print(\"All students who scored more that 60 percentage are : \")\n",
    "gradeAStudent = list(filter(lambda s:s.Search(60,100),studentDict.values()))\n",
    "if(len(gradeAStudent) == 0):\n",
    "    print(\"Record Not Found!\")\n",
    "else:\n",
    "    for S in gradeAStudent:\n",
    "        S.PutStudent()"
   ]
  },
  {
   "cell_type": "code",
   "execution_count": null,
   "metadata": {},
   "outputs": [],
   "source": []
  }
 ],
 "metadata": {
  "kernelspec": {
   "display_name": "Python 3",
   "language": "python",
   "name": "python3"
  },
  "language_info": {
   "codemirror_mode": {
    "name": "ipython",
    "version": 3
   },
   "file_extension": ".py",
   "mimetype": "text/x-python",
   "name": "python",
   "nbconvert_exporter": "python",
   "pygments_lexer": "ipython3",
   "version": "3.7.3"
  }
 },
 "nbformat": 4,
 "nbformat_minor": 2
}
