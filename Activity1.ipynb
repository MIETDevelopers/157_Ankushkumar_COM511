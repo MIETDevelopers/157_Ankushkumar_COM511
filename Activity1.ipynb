{
 "cells": [
  {
   "cell_type": "markdown",
   "id": "2b9abd8e",
   "metadata": {},
   "source": [
    "DATE:10-09-22                                                                                                        "
   ]
  },
  {
   "cell_type": "markdown",
   "id": "ee6f8006",
   "metadata": {},
   "source": [
    "# Activity 1:\n",
    "_______________________________________________________________________________________________________________________________"
   ]
  },
  {
   "cell_type": "markdown",
   "id": "bb18ad20",
   "metadata": {},
   "source": [
    "### Write a program to demonstrate type checking of various data types and demonstrate the use of following built in functions in python: abs(), len(), min(), round(), isalnum(), type()."
   ]
  },
  {
   "cell_type": "markdown",
   "id": "e42b1509",
   "metadata": {},
   "source": [
    "## 1.  Python Number"
   ]
  },
  {
   "cell_type": "code",
   "execution_count": 1,
   "id": "c9702af0",
   "metadata": {},
   "outputs": [
    {
     "name": "stdout",
     "output_type": "stream",
     "text": [
      "5 is of type <class 'int'>\n",
      "2.0 is of type <class 'float'>\n",
      "(1+2j) is complex number? True\n"
     ]
    }
   ],
   "source": [
    "a=5\n",
    "print(a,\"is of type\", type(a))\n",
    "\n",
    "a=2.0\n",
    "print(a, \"is of type\", type(a))\n",
    "\n",
    "a=1+2j\n",
    "print(a,\"is complex number?\", isinstance(1+2j,complex))"
   ]
  },
  {
   "cell_type": "markdown",
   "id": "38bb9653",
   "metadata": {},
   "source": [
    "## 2.  Python List"
   ]
  },
  {
   "cell_type": "code",
   "execution_count": 4,
   "id": "0c784ab6",
   "metadata": {},
   "outputs": [
    {
     "name": "stdout",
     "output_type": "stream",
     "text": [
      "a[2] = 15\n",
      "a[0:3]= [5, 10, 15]\n",
      "a[5:]= [30, 35, 100]\n"
     ]
    }
   ],
   "source": [
    "a=[5,10,15,20,25,30,35,40]\n",
    "\n",
    "print(\"a[2] =\", a[2])\n",
    "\n",
    "print(\"a[0:3]=\", a[0:3])\n",
    "\n",
    "a[7]=100\n",
    "\n",
    "print(\"a[5:]=\", a[5:])"
   ]
  },
  {
   "cell_type": "markdown",
   "id": "c723b730",
   "metadata": {},
   "source": [
    "## 3.  Python Tuple"
   ]
  },
  {
   "cell_type": "code",
   "execution_count": 5,
   "id": "5362841d",
   "metadata": {},
   "outputs": [
    {
     "name": "stdout",
     "output_type": "stream",
     "text": [
      "t[1] 5\n",
      "t[0:3] (10, 5, 20)\n"
     ]
    }
   ],
   "source": [
    "t=(10,5,20)\n",
    "\n",
    "print(\"t[1]\", t[1])\n",
    "\n",
    "print(\"t[0:3]\", t[0:3])"
   ]
  },
  {
   "cell_type": "markdown",
   "id": "d2b31578",
   "metadata": {},
   "source": [
    "## 4.  Python String"
   ]
  },
  {
   "cell_type": "code",
   "execution_count": 11,
   "id": "8e0f2141",
   "metadata": {},
   "outputs": [
    {
     "name": "stdout",
     "output_type": "stream",
     "text": [
      "This is a string\n",
      "A multiline\n",
      "string\n"
     ]
    }
   ],
   "source": [
    "s=\"This is a string\"\n",
    "print(s)\n",
    "\n",
    "s=\"\"\"A multiline\n",
    "string\"\"\"\n",
    "print(s)"
   ]
  },
  {
   "cell_type": "code",
   "execution_count": 6,
   "id": "bc612419",
   "metadata": {},
   "outputs": [
    {
     "name": "stdout",
     "output_type": "stream",
     "text": [
      "s[4] = o\n",
      "s[6:11] = world\n"
     ]
    }
   ],
   "source": [
    "s='hello world!'\n",
    "\n",
    "print(\"s[4] =\",s[4])\n",
    "\n",
    "print(\"s[6:11] =\",s[6:11])"
   ]
  },
  {
   "cell_type": "markdown",
   "id": "daffb77b",
   "metadata": {},
   "source": [
    "## 5.  Python Set"
   ]
  },
  {
   "cell_type": "code",
   "execution_count": 3,
   "id": "4e7a16e1",
   "metadata": {},
   "outputs": [
    {
     "name": "stdout",
     "output_type": "stream",
     "text": [
      "a = {1, 2, 3, 4, 5}\n",
      "<class 'set'>\n"
     ]
    }
   ],
   "source": [
    "a={5,1,2,3,4}\n",
    "\n",
    "print(\"a =\",a)\n",
    "\n",
    "print(type(a))"
   ]
  },
  {
   "cell_type": "code",
   "execution_count": 7,
   "id": "ff426844",
   "metadata": {},
   "outputs": [
    {
     "name": "stdout",
     "output_type": "stream",
     "text": [
      "a = {1, 2, 3, 4}\n"
     ]
    }
   ],
   "source": [
    "a={1,1,2,4,2,2,3,3,3}\n",
    "\n",
    "print(\"a =\",a)"
   ]
  },
  {
   "cell_type": "markdown",
   "id": "707e5dc6",
   "metadata": {},
   "source": [
    "## 6.  Python Dictonary"
   ]
  },
  {
   "cell_type": "code",
   "execution_count": 11,
   "id": "4ff74a4f",
   "metadata": {},
   "outputs": [
    {
     "name": "stdout",
     "output_type": "stream",
     "text": [
      "<class 'dict'>\n",
      "d[1] = value\n",
      "d['key'] = 2\n",
      "d[10] = lock\n"
     ]
    }
   ],
   "source": [
    "d={1:'value','key':2, 10:'lock'}\n",
    "\n",
    "print(type(d))\n",
    "\n",
    "print(\"d[1] =\",d[1])\n",
    "\n",
    "print(\"d['key'] =\",d['key'])\n",
    "\n",
    "print(\"d[10] =\",d[10])"
   ]
  },
  {
   "cell_type": "markdown",
   "id": "1897e48c",
   "metadata": {},
   "source": [
    "### Conversion between data type"
   ]
  },
  {
   "cell_type": "code",
   "execution_count": 20,
   "id": "994c72e3",
   "metadata": {},
   "outputs": [
    {
     "data": {
      "text/plain": [
       "5.0"
      ]
     },
     "execution_count": 20,
     "metadata": {},
     "output_type": "execute_result"
    }
   ],
   "source": [
    "float(5)"
   ]
  },
  {
   "cell_type": "code",
   "execution_count": 15,
   "id": "2b7ec6c4",
   "metadata": {},
   "outputs": [
    {
     "data": {
      "text/plain": [
       "2.5"
      ]
     },
     "execution_count": 15,
     "metadata": {},
     "output_type": "execute_result"
    }
   ],
   "source": [
    "float('2.5')"
   ]
  },
  {
   "cell_type": "code",
   "execution_count": 16,
   "id": "518c6dac",
   "metadata": {},
   "outputs": [
    {
     "data": {
      "text/plain": [
       "'26'"
      ]
     },
     "execution_count": 16,
     "metadata": {},
     "output_type": "execute_result"
    }
   ],
   "source": [
    "str(26)"
   ]
  },
  {
   "cell_type": "code",
   "execution_count": 18,
   "id": "cb779543",
   "metadata": {},
   "outputs": [
    {
     "data": {
      "text/plain": [
       "10"
      ]
     },
     "execution_count": 18,
     "metadata": {},
     "output_type": "execute_result"
    }
   ],
   "source": [
    "int(10.7)"
   ]
  },
  {
   "cell_type": "code",
   "execution_count": 19,
   "id": "78ccbc09",
   "metadata": {},
   "outputs": [
    {
     "data": {
      "text/plain": [
       "-6"
      ]
     },
     "execution_count": 19,
     "metadata": {},
     "output_type": "execute_result"
    }
   ],
   "source": [
    "int(-6.7)"
   ]
  },
  {
   "cell_type": "code",
   "execution_count": 21,
   "id": "30f0b22e",
   "metadata": {},
   "outputs": [
    {
     "data": {
      "text/plain": [
       "{1, 2, 3}"
      ]
     },
     "execution_count": 21,
     "metadata": {},
     "output_type": "execute_result"
    }
   ],
   "source": [
    "set([1,3,2])"
   ]
  },
  {
   "cell_type": "code",
   "execution_count": 22,
   "id": "120f49ac",
   "metadata": {},
   "outputs": [
    {
     "data": {
      "text/plain": [
       "(2, 3, 5)"
      ]
     },
     "execution_count": 22,
     "metadata": {},
     "output_type": "execute_result"
    }
   ],
   "source": [
    "tuple({3,2,5})"
   ]
  },
  {
   "cell_type": "code",
   "execution_count": 23,
   "id": "0a8557f8",
   "metadata": {},
   "outputs": [
    {
     "data": {
      "text/plain": [
       "['h', 'e', 'l', 'l', 'o']"
      ]
     },
     "execution_count": 23,
     "metadata": {},
     "output_type": "execute_result"
    }
   ],
   "source": [
    "list('hello')"
   ]
  },
  {
   "cell_type": "code",
   "execution_count": 25,
   "id": "c48565ed",
   "metadata": {},
   "outputs": [
    {
     "data": {
      "text/plain": [
       "{1: 2, 2: 3}"
      ]
     },
     "execution_count": 25,
     "metadata": {},
     "output_type": "execute_result"
    }
   ],
   "source": [
    "dict([[1,2],[2,3]])"
   ]
  },
  {
   "cell_type": "code",
   "execution_count": 26,
   "id": "9c19af8e",
   "metadata": {},
   "outputs": [
    {
     "data": {
      "text/plain": [
       "{2: 0, 10: 22}"
      ]
     },
     "execution_count": 26,
     "metadata": {},
     "output_type": "execute_result"
    }
   ],
   "source": [
    "dict([(2,0),(10,22)])"
   ]
  },
  {
   "cell_type": "markdown",
   "id": "adb8b6bb",
   "metadata": {},
   "source": [
    "### Dynamic Typing"
   ]
  },
  {
   "cell_type": "code",
   "execution_count": 27,
   "id": "c9a4066a",
   "metadata": {},
   "outputs": [
    {
     "name": "stdout",
     "output_type": "stream",
     "text": [
      "<class 'str'>\n",
      "<class 'float'>\n"
     ]
    }
   ],
   "source": [
    "things=\"Hello\"\n",
    "print(type(things))\n",
    "\n",
    "things=28.1\n",
    "print(type(things))"
   ]
  },
  {
   "cell_type": "markdown",
   "id": "767f05f4",
   "metadata": {},
   "source": [
    "# Built-in Functions"
   ]
  },
  {
   "cell_type": "markdown",
   "id": "df1fd0cb",
   "metadata": {},
   "source": [
    "## 1.  Abs()"
   ]
  },
  {
   "cell_type": "code",
   "execution_count": 29,
   "id": "73eba3f8",
   "metadata": {},
   "outputs": [
    {
     "name": "stdout",
     "output_type": "stream",
     "text": [
      "20\n"
     ]
    }
   ],
   "source": [
    "number = -20\n",
    "absolute_number = abs(number)\n",
    "print(absolute_number)"
   ]
  },
  {
   "cell_type": "code",
   "execution_count": 32,
   "id": "7c621a7a",
   "metadata": {},
   "outputs": [
    {
     "name": "stdout",
     "output_type": "stream",
     "text": [
      "Absolute value of integer = 23\n",
      "Absolute value of float = 20.3\n"
     ]
    }
   ],
   "source": [
    "integer=-23\n",
    "print(\"Absolute value of integer =\",abs(integer))\n",
    "\n",
    "floating=-20.3\n",
    "print(\"Absolute value of float =\",abs(floating))"
   ]
  },
  {
   "cell_type": "markdown",
   "id": "f8bd8958",
   "metadata": {},
   "source": [
    "## 2.  Lens()"
   ]
  },
  {
   "cell_type": "code",
   "execution_count": 42,
   "id": "27ab08f0",
   "metadata": {
    "scrolled": true
   },
   "outputs": [
    {
     "name": "stdout",
     "output_type": "stream",
     "text": [
      "3\n",
      "[] length is  0\n",
      "[1, 2, 3, 4] length is 4\n",
      "(1, 2, 3) length is 3\n",
      "range(1, 10) length is 9\n"
     ]
    }
   ],
   "source": [
    "languages=['Python','c','java']\n",
    "print(len(languages))\n",
    "\n",
    "testlist=[]\n",
    "print(testlist, 'length is ' ,len(testlist))\n",
    "\n",
    "testlist=[1,2,3,4]\n",
    "print(testlist, 'length is',len(testlist))\n",
    "\n",
    "testtuple = (1,2,3)\n",
    "print(testtuple, 'length is',len(testtuple))\n",
    "\n",
    "testrange=range(1,10)\n",
    "print(testrange, 'length is', len(testrange))"
   ]
  },
  {
   "cell_type": "code",
   "execution_count": 6,
   "id": "2f5ab078",
   "metadata": {
    "scrolled": true
   },
   "outputs": [
    {
     "name": "stdout",
     "output_type": "stream",
     "text": [
      "length of  is 0\n",
      "length of Python is 6\n",
      "length of b'Python' is 6\n",
      "length of b'\\x01\\x02\\x03\\x02' is 4\n"
     ]
    }
   ],
   "source": [
    "teststring=''\n",
    "print('length of', teststring , 'is', len(teststring))\n",
    "\n",
    "teststring='Python'\n",
    "print('length of', teststring, 'is', len(teststring))\n",
    "\n",
    "testbyte=b'Python'\n",
    "print('length of', testbyte, 'is', len(testbyte))\n",
    "\n",
    "testlist=[1,2,3,2]\n",
    "\n",
    "testbyte=bytes(testlist)\n",
    "print('length of', testbyte, 'is', len(testbyte))"
   ]
  },
  {
   "cell_type": "code",
   "execution_count": 8,
   "id": "4ad43e83",
   "metadata": {},
   "outputs": [
    {
     "name": "stdout",
     "output_type": "stream",
     "text": [
      "{1, 2, 3} length is 3\n",
      "set() length is 0\n",
      "{1: 'abc', 'cde': 2} length of 2\n",
      "{} length of 0\n",
      "frozenset({1, 2}) length is 2\n"
     ]
    }
   ],
   "source": [
    "testset={1,2,3}\n",
    "print(testset, 'length is', len(testset))\n",
    "\n",
    "testset=set()\n",
    "print(testset, 'length is', len(testset))\n",
    "\n",
    "testdict={1:'abc','cde':2}\n",
    "print(testdict, 'length of', len(testdict))\n",
    "\n",
    "testdict={}\n",
    "print(testdict, 'length of', len(testdict))\n",
    "\n",
    "testset={1,2}\n",
    "frozentestset = frozenset(testset)\n",
    "print(frozentestset, 'length is', len(frozentestset))"
   ]
  },
  {
   "cell_type": "markdown",
   "id": "a9b547b4",
   "metadata": {},
   "source": [
    "## 3.  Min()"
   ]
  },
  {
   "cell_type": "code",
   "execution_count": 9,
   "id": "1e108fa1",
   "metadata": {},
   "outputs": [
    {
     "name": "stdout",
     "output_type": "stream",
     "text": [
      "-12\n",
      "The smallest number is 1\n"
     ]
    }
   ],
   "source": [
    "number = [9,10,20,30,-12]\n",
    "min_number=(min(number))\n",
    "print(min_number)\n",
    "\n",
    "number=[2,1,3,4,8,10]\n",
    "print(\"The smallest number is\", min(number))"
   ]
  },
  {
   "cell_type": "markdown",
   "id": "2e399e26",
   "metadata": {},
   "source": [
    "## 4.  Round()"
   ]
  },
  {
   "cell_type": "code",
   "execution_count": 10,
   "id": "f6862082",
   "metadata": {},
   "outputs": [
    {
     "name": "stdout",
     "output_type": "stream",
     "text": [
      "13\n",
      "51\n",
      "52\n",
      "52\n"
     ]
    }
   ],
   "source": [
    "print(round(13))\n",
    "\n",
    "print(round(51.2))\n",
    "print(round(51.5))\n",
    "print(round(51.7))"
   ]
  },
  {
   "cell_type": "code",
   "execution_count": 24,
   "id": "7e360c45",
   "metadata": {},
   "outputs": [
    {
     "name": "stdout",
     "output_type": "stream",
     "text": [
      "20.67\n",
      "2.68\n",
      "2.7\n"
     ]
    }
   ],
   "source": [
    "print(round(20.667,2))\n",
    "print(round(2.676,2))\n",
    "print(round(2.673,1))"
   ]
  },
  {
   "cell_type": "markdown",
   "id": "8f8c92af",
   "metadata": {},
   "source": [
    "## 5. Isalnum()"
   ]
  },
  {
   "cell_type": "code",
   "execution_count": 19,
   "id": "dfbd8960",
   "metadata": {},
   "outputs": [
    {
     "name": "stdout",
     "output_type": "stream",
     "text": [
      "True\n",
      "False\n"
     ]
    }
   ],
   "source": [
    "name1=\"Python3\"\n",
    "print(name1.isalnum())\n",
    "\n",
    "name2=\"Python 3\"\n",
    "print(name2.isalnum())"
   ]
  },
  {
   "cell_type": "code",
   "execution_count": 22,
   "id": "ad6341e7",
   "metadata": {},
   "outputs": [
    {
     "name": "stdout",
     "output_type": "stream",
     "text": [
      "True\n",
      "False\n",
      "False\n",
      "False\n"
     ]
    }
   ],
   "source": [
    "string1=\"M234onica\"\n",
    "print(string1.isalnum())\n",
    "\n",
    "string2=\"m3onica gell22er\"\n",
    "print(string2.isalnum())\n",
    "\n",
    "string3=\"@monica!\"\n",
    "print(string3.isalnum())\n",
    "\n",
    "string4=\"whitespace,@,!\"\n",
    "print(string4.isalnum())"
   ]
  }
 ],
 "metadata": {
  "kernelspec": {
   "display_name": "Python 3 (ipykernel)",
   "language": "python",
   "name": "python3"
  },
  "language_info": {
   "codemirror_mode": {
    "name": "ipython",
    "version": 3
   },
   "file_extension": ".py",
   "mimetype": "text/x-python",
   "name": "python",
   "nbconvert_exporter": "python",
   "pygments_lexer": "ipython3",
   "version": "3.9.0"
  }
 },
 "nbformat": 4,
 "nbformat_minor": 5
}
