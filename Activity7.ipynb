{
 "cells": [
  {
   "cell_type": "markdown",
   "id": "fce1b910-932c-4f41-bf15-868661054661",
   "metadata": {},
   "source": [
    "# Activity 7  "
   ]
  },
  {
   "cell_type": "markdown",
   "id": "f6a174ae-6a8c-4944-bf08-013d2305a03e",
   "metadata": {},
   "source": [
    "## Create a database using list and tuples"
   ]
  },
  {
   "cell_type": "code",
   "execution_count": 78,
   "id": "46b2bb32-06c7-4a38-9139-75283afe5365",
   "metadata": {},
   "outputs": [],
   "source": [
    "import csv\n",
    "import os\n",
    "import pandas as pd\n",
    "import openpyxl"
   ]
  },
  {
   "cell_type": "code",
   "execution_count": 79,
   "id": "837e97b6-f26a-470a-a2da-d38d09cfea47",
   "metadata": {},
   "outputs": [],
   "source": [
    "main_list = []"
   ]
  },
  {
   "cell_type": "markdown",
   "id": "44478c09-1284-4eb7-9067-76ce1073f010",
   "metadata": {},
   "source": [
    "Insert the values in the Database"
   ]
  },
  {
   "cell_type": "code",
   "execution_count": 80,
   "id": "769b2807-4b4e-47d0-ab47-c829fdb93ded",
   "metadata": {},
   "outputs": [
    {
     "name": "stdin",
     "output_type": "stream",
     "text": [
      "Enter the number of Employee to be added:  10\n"
     ]
    },
    {
     "name": "stdout",
     "output_type": "stream",
     "text": [
      "\n"
     ]
    },
    {
     "name": "stdin",
     "output_type": "stream",
     "text": [
      "Enter the NAME of the employee:  mayank\n",
      "Enter the ID of the employee:  001\n",
      "Enter the DEPARTMENT of the employee:  sde\n",
      "Enter the SALARY of the employee:  20000\n"
     ]
    },
    {
     "name": "stdout",
     "output_type": "stream",
     "text": [
      "\n"
     ]
    },
    {
     "name": "stdin",
     "output_type": "stream",
     "text": [
      "Enter the NAME of the employee:  gulshan\n",
      "Enter the ID of the employee:  002\n",
      "Enter the DEPARTMENT of the employee:  frontend\n",
      "Enter the SALARY of the employee:  40000\n"
     ]
    },
    {
     "name": "stdout",
     "output_type": "stream",
     "text": [
      "\n"
     ]
    },
    {
     "name": "stdin",
     "output_type": "stream",
     "text": [
      "Enter the NAME of the employee:  ankush\n",
      "Enter the ID of the employee:  003\n",
      "Enter the DEPARTMENT of the employee:  backend\n",
      "Enter the SALARY of the employee:  8000\n"
     ]
    },
    {
     "name": "stdout",
     "output_type": "stream",
     "text": [
      "\n"
     ]
    },
    {
     "name": "stdin",
     "output_type": "stream",
     "text": [
      "Enter the NAME of the employee:  rikit\n",
      "Enter the ID of the employee:  675\n",
      "Enter the DEPARTMENT of the employee:  frontend\n",
      "Enter the SALARY of the employee:  2000\n"
     ]
    },
    {
     "name": "stdout",
     "output_type": "stream",
     "text": [
      "\n"
     ]
    },
    {
     "name": "stdin",
     "output_type": "stream",
     "text": [
      "Enter the NAME of the employee:  sahil\n",
      "Enter the ID of the employee:  908\n",
      "Enter the DEPARTMENT of the employee:  backend\n",
      "Enter the SALARY of the employee:  7000\n"
     ]
    },
    {
     "name": "stdout",
     "output_type": "stream",
     "text": [
      "\n"
     ]
    },
    {
     "name": "stdin",
     "output_type": "stream",
     "text": [
      "Enter the NAME of the employee:  manni\n",
      "Enter the ID of the employee:  878\n",
      "Enter the DEPARTMENT of the employee:  sde\n",
      "Enter the SALARY of the employee:  7699\n"
     ]
    },
    {
     "name": "stdout",
     "output_type": "stream",
     "text": [
      "\n"
     ]
    },
    {
     "name": "stdin",
     "output_type": "stream",
     "text": [
      "Enter the NAME of the employee:  vishard\n",
      "Enter the ID of the employee:  765\n",
      "Enter the DEPARTMENT of the employee:  sde\n",
      "Enter the SALARY of the employee:  9000\n"
     ]
    },
    {
     "name": "stdout",
     "output_type": "stream",
     "text": [
      "\n"
     ]
    },
    {
     "name": "stdin",
     "output_type": "stream",
     "text": [
      "Enter the NAME of the employee:  rishi\n",
      "Enter the ID of the employee:  275\n",
      "Enter the DEPARTMENT of the employee:  frontend\n",
      "Enter the SALARY of the employee:  4000\n"
     ]
    },
    {
     "name": "stdout",
     "output_type": "stream",
     "text": [
      "\n"
     ]
    },
    {
     "name": "stdin",
     "output_type": "stream",
     "text": [
      "Enter the NAME of the employee:  sudanshu\n",
      "Enter the ID of the employee:  200\n",
      "Enter the DEPARTMENT of the employee:  frontend\n",
      "Enter the SALARY of the employee:  2000\n"
     ]
    },
    {
     "name": "stdout",
     "output_type": "stream",
     "text": [
      "\n"
     ]
    },
    {
     "name": "stdin",
     "output_type": "stream",
     "text": [
      "Enter the NAME of the employee:  pritish\n",
      "Enter the ID of the employee:  sde\n",
      "Enter the DEPARTMENT of the employee:  1000\n",
      "Enter the SALARY of the employee:  1000\n"
     ]
    },
    {
     "name": "stdout",
     "output_type": "stream",
     "text": [
      "\n"
     ]
    }
   ],
   "source": [
    "count = int(input('Enter the number of Employee to be added: '))\n",
    "print('')\n",
    "for i in range(count):\n",
    "    sublist = ()\n",
    "    name = input('Enter the NAME of the employee: ')\n",
    "    emp_id = input('Enter the ID of the employee: ')\n",
    "    department = input('Enter the DEPARTMENT of the employee: ')\n",
    "    salary = int(input('Enter the SALARY of the employee: '))\n",
    "    print('')\n",
    "    sublist+=(name,emp_id,department,salary)\n",
    "    main_list.append(sublist)"
   ]
  },
  {
   "cell_type": "code",
   "execution_count": 81,
   "id": "d933bc39-f5ef-4ccd-9939-b86e0c24196c",
   "metadata": {},
   "outputs": [
    {
     "name": "stdout",
     "output_type": "stream",
     "text": [
      "[('mayank', '001', 'sde', 20000), ('gulshan', '002', 'frontend', 40000), ('ankush', '003', 'backend', 8000), ('rikit', '675', 'frontend', 2000), ('sahil', '908', 'backend', 7000), ('manni', '878', 'sde', 7699), ('vishard', '765', 'sde', 9000), ('rishi', '275', 'frontend', 4000), ('sudanshu', '200', 'frontend', 2000), ('pritish', 'sde', '1000', 1000)]\n"
     ]
    }
   ],
   "source": [
    "print(main_list)"
   ]
  },
  {
   "cell_type": "markdown",
   "id": "5902a63b-ebfe-4ce1-a22e-9e88acdc42b0",
   "metadata": {},
   "source": [
    "Create a csv File"
   ]
  },
  {
   "cell_type": "code",
   "execution_count": 83,
   "id": "49e5ae3d-ff28-4d20-8ad4-185bdc54990c",
   "metadata": {},
   "outputs": [],
   "source": [
    "with open('data.csv',mode='w') as csvfile:\n",
    "    fieldnames = ['Name','Emp_ID','Department','Salary']\n",
    "    writer = csv.DictWriter(csvfile,fieldnames=fieldnames)\n",
    "    writer.writeheader()\n",
    "    for i in range(len(main_list)):\n",
    "        writer.writerow({\"Name\":main_list[i][0], \"Emp_ID\":main_list[i][1], \"Department\":main_list[i][2], \"Salary\":main_list[i][3]})"
   ]
  },
  {
   "cell_type": "code",
   "execution_count": null,
   "id": "1aca5a71-474d-45d6-9359-6a8426fde297",
   "metadata": {},
   "outputs": [],
   "source": [
    "Create a Excel_sheet "
   ]
  },
  {
   "cell_type": "code",
   "execution_count": 85,
   "id": "9577e0ef-cf6f-4037-bd8e-3fe8363dd5fd",
   "metadata": {},
   "outputs": [],
   "source": [
    "readfile = pd.read_csv('data.csv')\n",
    "readfile.to_excel('data.xlsx',index = None, header=True)"
   ]
  },
  {
   "cell_type": "code",
   "execution_count": null,
   "id": "719191eb-f98d-49b7-81c6-be572dd15fe2",
   "metadata": {},
   "outputs": [],
   "source": []
  }
 ],
 "metadata": {
  "kernelspec": {
   "display_name": "Python 3 (ipykernel)",
   "language": "python",
   "name": "python3"
  },
  "language_info": {
   "codemirror_mode": {
    "name": "ipython",
    "version": 3
   },
   "file_extension": ".py",
   "mimetype": "text/x-python",
   "name": "python",
   "nbconvert_exporter": "python",
   "pygments_lexer": "ipython3",
   "version": "3.10.6"
  }
 },
 "nbformat": 4,
 "nbformat_minor": 5
}
